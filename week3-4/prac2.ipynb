{
 "cells": [
  {
   "cell_type": "markdown",
   "metadata": {},
   "source": [
    "# Introduction to Artificial Intelligence for Non Computing"
   ]
  },
  {
   "cell_type": "markdown",
   "metadata": {},
   "source": [
    "## Practical 2 (weeks 3 - 4)"
   ]
  },
  {
   "cell_type": "markdown",
   "metadata": {},
   "source": [
    "## Search Techniques"
   ]
  },
  {
   "cell_type": "markdown",
   "metadata": {},
   "source": [
    "The following links provide additional information about depth first search and breath first search"
   ]
  },
  {
   "cell_type": "markdown",
   "metadata": {},
   "source": [
    "- Depth first search:   link：https://pan.baidu.com/s/1bkLHKKbSBNpfFuKwDyURqw  password：oy76\n",
    "- Breath first search:  link：https://pan.baidu.com/s/176g5q0W3rGbSAM5tZMraeg   password：7mdh"
   ]
  },
  {
   "cell_type": "markdown",
   "metadata": {},
   "source": [
    "#### Theory Questions "
   ]
  },
  {
   "cell_type": "markdown",
   "metadata": {},
   "source": [
    "1\\. What is an algorithm? A sequence of steps such as a recipe or a movie script.\n",
    "\n",
    "As a movie viewer, please write an algorithm for a process to \"see a movie\". Include details of the following for example (add additional information yourself):\n",
    "\t- The start conditions \n",
    "\t-- I want to watch a movie\n",
    "\t- Roles (people/actors involved) \n",
    "    --watcher, ticket seller etc \n",
    "    -Equipment required (\"props\")\n",
    "    --seats, ticket etc\n",
    "    - The scenes \n",
    "    -- scene 1 - buy ticket \n",
    "    -- ??? what happens next\n",
    "    -- scene 3, scene 3 ...\n",
    "    - Results/outcomes\n",
    "    -- ?\n"
   ]
  },
  {
   "cell_type": "markdown",
   "metadata": {},
   "source": [
    "_your answer here..._ \n",
    "      Screenplay:\n",
    "      (1.)the conditions of play the movie:\n",
    "        (a)I want to see a movie\n",
    "        (b)I have enough money to buy a movie ticket\n",
    "      (2.) role:\n",
    "        I, the conductor, the projector, the doorman\n",
    "      (3.) props: Movie tickets,chairs,projection equipment(screens, video cameras), money\n",
    "      (4.)the scene: Scene one: buy a ticket\n",
    "        (a)I walked to the ticket office and take out the money to the conductor.\n",
    "        (b) the conductor took the money and gave me a movie ticket.\n",
    "      Scene two: go to the cinema\n",
    "        (a)I took the ticket, walked into the entrance, and took out the ticket for the doorman.\n",
    "        (b) the doorman let me in.\n",
    "      Scene three: waiting for the movie to start, I find my seat and sit down. \n",
    "      Scene four: see a movie\n",
    "        (a) the movie started\n",
    "        (b)I was deeply attracted by the story and absorbed in the movie.\n",
    "      Scene five: The film is finished\n",
    "        (a) the film is over\n",
    "        (b)I left the cinema with others.\n",
    "      (5.)results (a.)I had a good mood (b)I spent the money(c.)the cinema earned money.\n",
    "***"
   ]
  },
  {
   "cell_type": "markdown",
   "metadata": {},
   "source": [
    "2\\. A farmer with his wolf, duck and bag of corn come to the east side of a river they wish to cross. There is a boat at the rivers edge, but of course only the farmer can row. The boat can only hold two things (including the rower) at any one time. If the wolf is ever left alone with the duck, the wolf will eat it. Similarly if the duck is ever left alone with the corn, the duck will eat it. How can the farmer get across the river so that all four arrive safely on the other side? "
   ]
  },
  {
   "cell_type": "markdown",
   "metadata": {},
   "source": [
    "Initial State\n",
    "(1)Farmer takes duck to left bank\n",
    "(2)Farmer returns alone to right bank\n",
    "(3)Farmer takes wolf to left bank\n",
    "(4)Farmer returns right bank with duck\n",
    "(5)Farmer takes bag of corn to left bank\n",
    "(6)Farmer returns alone\n",
    "(7)Farmer takes duck to left bank\n",
    "End"
   ]
  },
  {
   "cell_type": "markdown",
   "metadata": {},
   "source": [
    " "
   ]
  },
  {
   "cell_type": "markdown",
   "metadata": {},
   "source": [
    "3\\.Explain why we determine our problem goals before we write the problem formulation (including the model and deciding what algorithm or techniques to use - for example search, or other method).\n",
    "\n",
    "See Chapter3.1 (Russel & Norvig)"
   ]
  },
  {
   "cell_type": "markdown",
   "metadata": {},
   "source": [
    "_your answer here..._ \n",
    "In goal formulation, we decide which aspects of the world we are interested in, and which can be ignored or abstracted away. Then in problem formulation wedecide how to manipulate the important aspects (and ignore the others). If we did problem formulation first we would not know what to include and what toleave out. That said, it can happen that there is a cycle of iterations between goal formulation, problem formulation, and problem solving until one arrives at asufficiently useful and eficent solution.\n",
    "****"
   ]
  },
  {
   "cell_type": "markdown",
   "metadata": {},
   "source": [
    "4\\. This question requires you to perform BFS and DFS on paper.\n",
    "\n",
    "<img src=\"img/p1.png\" width=\"180\" height=\"180\" >\n",
    "\n",
    "1. Simulate (on pencil-and-paper) breadth-first search starting from node A when the goal node is K.\n",
    "2. Simulate (on pencil-and-paper) depth first search starting from node A when the goal node is I.\n"
   ]
  },
  {
   "cell_type": "markdown",
   "metadata": {},
   "source": [
    "1. BFS  A:[B] B:[C,D] C:[D,E,F] D:[E,F,H,G] E:[F,H,G] F:[H,G] H:[G,K,I] G:[K,I] K=goal\n",
    "2. DFS  A:[B] B:[C,D] C:[E,G,D] E:[F,D] F:[D] D:[H,G] H[I,K,G] I=goal\n",
    "***"
   ]
  },
  {
   "cell_type": "markdown",
   "metadata": {},
   "source": [
    "5\\.Consider a state space where the start state is number 1 and each state  k has two successors: numbers 2k and 2k + 1.\n",
    "- a. Draw the portion of the state space for states 1 to 15.\n",
    "- b. Suppose the goal state is 11. List the order in which nodes will be visited for breadthfirst\n",
    "search, depth-limited search with limit 3, and iterative deepening search.\n",
    "- c. How well would bidirectional search work on this problem? What is the branching\n",
    "factor in each direction of the bidirectional search?\n",
    "- d. Does the answer to (c) suggest a reformulation of the problem that would allow you to\n",
    "solve the problem of getting from state 1 to a given goal state with almost no search?\n",
    "- e. Call the action going from k to 2k Left, and the action going to 2k + 1 Right. Can you\n",
    "find an algorithm that outputs the solution to this problem without any search at all?\n",
    "\n",
    "See textbook Chapter3.15"
   ]
  },
  {
   "cell_type": "markdown",
   "metadata": {},
   "source": [
    "_your answer here..._ \n",
    "b: Breadth-first 1 2 3 4 5 6 7 8 9 1O 11. Depth-limited: 1 2 4 8 9 5 1O 11. lterative deepening: 1; 1 2 3; 1 2 4 5 3 6 7;1 2 4 8 9 5 10 11\n",
    "\n",
    "c. Bidirectional search is very useful, because the only successor of n in the reverse direction is [(n/2)]. This helps focus the search. The branching factor is2 in the forward direction; 1 in the reverse direction.\n",
    "\n",
    "d: Yes, start at the goal, and apply the single reverse successor action until you reach 1.\n",
    "\n",
    "e. The solution can be read off the binary numeral for the goaI number. Write the goaI number in binary. Since we can only reach positive integers, this binary expansion beings with a 1.From most- to least- significant bit, skipping the initial 1, go Left to the node 2n if this bit is O and go Right to node 2n+1 if it is 1. For example, suppose the goaI is 11, which is 1011 in binary. The solution is therefore Left, Right, Right.\n"
   ]
  },
  {
   "cell_type": "markdown",
   "metadata": {},
   "source": [
    "### Programming Excercises"
   ]
  },
  {
   "cell_type": "markdown",
   "metadata": {},
   "source": [
    "1\\.Write a program to solve a classic ancient Chinese puzzle:  \n",
    " We count 35 heads and 94 legs among the chickens and rabbits in a farm. How many rabbits and how many chickens do we have? "
   ]
  },
  {
   "cell_type": "code",
   "execution_count": 1,
   "metadata": {},
   "outputs": [
    {
     "name": "stdout",
     "output_type": "stream",
     "text": [
      "Rabbits: 12 \n",
      "Chickens: 23\n"
     ]
    }
   ],
   "source": [
    "##Hint:Use for loop to iterate all possible\n",
    "## write your answer here!\n",
    "r_leg = 4\n",
    "c_leg = 2\n",
    "r_head = 1\n",
    "c_head = 1\n",
    "\n",
    "for r_num in range(0,36):\n",
    "    for c_num in range(0,36):\n",
    "        if (r_num*r_head+c_num*c_head==35)&(r_num*r_leg+c_num*c_leg==94):\n",
    "            print(\"Rabbits: %d \\nChickens: %d\" %(r_num,c_num))"
   ]
  },
  {
   "cell_type": "markdown",
   "metadata": {},
   "source": [
    "2\\. _Social networking_ Please look at the graph below of social relationships. You have a mango farm, you need to find a mango buyer and sell him your mango that you have grown (just a small farm). To this end, our principle is to use our social network of friends separated by one degree, and then second degree friends (friends of friends), third degree friends (friends of friends of friends).\n",
    "\n",
    "Use the depth first algorithm to search your network until you find a mango seller. \n",
    "\n",
    "We make an assumption that if the person's name ends with m, then it means the person must be the mango seller!\n",
    "\n",
    "\n",
    "<img src=\"img/p3.png\" width=\"500\" height=\"400\" >"
   ]
  },
  {
   "cell_type": "code",
   "execution_count": 94,
   "metadata": {},
   "outputs": [
    {
     "name": "stdout",
     "output_type": "stream",
     "text": [
      "thom is mango seller\n"
     ]
    }
   ],
   "source": [
    "## write your answer here!\n",
    "node = ['anuj', 'bob', 'peggy', 'you', 'alice', 'thom', 'claire', 'jonmy']\n",
    "N = [[0, 0, 0, 0, 0, 0, 0, 0],\n",
    "     [1, 0, 1, 0, 0, 0, 0, 0],\n",
    "     [0, 0, 0, 0, 0, 0, 0, 0],\n",
    "     [0, 1, 0, 0, 1, 0, 1, 0],\n",
    "     [0, 0, 1, 0, 0, 0, 0, 0],\n",
    "     [0, 0, 0, 0, 0, 0, 0, 0],\n",
    "     [0, 0, 0, 0, 0, 1, 0, 1],\n",
    "     [0, 0, 0, 0, 0, 0, 0, 0]]\n",
    "\n",
    "stack1=[]\n",
    "ret='r'\n",
    "stack1.append(3)\n",
    "stack2=[]\n",
    "\n",
    "def dfs_m(stack):\n",
    "    while len(stack)>0:\n",
    "        tmp = stack.pop(len(stack)-1)\n",
    "        count=0;\n",
    "        if(node[tmp][len(node[tmp])-1]=='m'):\n",
    "            return node[tmp]\n",
    "        for i in N[tmp]:\n",
    "            if (i == 1):\n",
    "                stack.append(count)\n",
    "                stack2.append(dfs_m(stack))\n",
    "                ee=stack2.pop()\n",
    "                if(ee[len(ee)-1]=='m'):\n",
    "                    return ee\n",
    "            count=count+1\n",
    "        return  ret     \n",
    "    \n",
    "print(dfs_m(stack1)+\" is mango seller\")"
   ]
  },
  {
   "cell_type": "markdown",
   "metadata": {},
   "source": [
    "3\\. Depth First traverse：Use depth first traversal to traverse all the DLL files on the C disk and output the file names.\n",
    "\n",
    "Update your code to search for a particular filename.\n",
    "\n",
    "What protocol did you use to select the next node to expand on the fringe?"
   ]
  },
  {
   "cell_type": "code",
   "execution_count": 16,
   "metadata": {},
   "outputs": [
    {
     "name": "stdout",
     "output_type": "stream",
     "text": [
      "dir: /Users/zyp/Desktop/eBooks\n",
      "dir: /Users/zyp/Desktop/eBooks/book\n",
      "file: /Users/zyp/Desktop/eBooks/book/linear algrebra done wrong.pdf\n",
      "file: /Users/zyp/Desktop/eBooks/book/Our Physics Textbook10th.pdf\n",
      "file: /Users/zyp/Desktop/eBooks/book/Linear algebra and its applications.pdf\n",
      "file: /Users/zyp/Desktop/eBooks/book/陈阅增普通生物学第3版.pdf\n",
      "file: /Users/zyp/Desktop/eBooks/book/Chemistry 12th Pearson.pdf\n",
      "file: /Users/zyp/Desktop/eBooks/book/计算机科学概论（第11版）[中文版].pdf\n",
      "file: /Users/zyp/Desktop/eBooks/book/Thomas_Calculus_(13th_Edition).pdf\n",
      "file: /Users/zyp/Desktop/eBooks/book/Java语言程序设计-基础篇(原书第8版-中文) (1).pdf\n",
      "file: /Users/zyp/Desktop/eBooks/book/.DS_Store\n",
      "file: /Users/zyp/Desktop/eBooks/book/托马斯微积分第十版中文版.pdf\n",
      "dir: /Users/zyp/Desktop/eBooks/finance book\n",
      "file: /Users/zyp/Desktop/eBooks/finance book/投资学博迪中文版.pdf\n",
      "file: /Users/zyp/Desktop/eBooks/finance book/概率统计.第四版.Probability and Statistics-Mo.pdf\n",
      "file: /Users/zyp/Desktop/eBooks/finance book/Managing Investment Portfolios A Dynamic Process, 3rd Edition _CFA Institute_.pdf\n",
      "file: /Users/zyp/Desktop/eBooks/finance book/financial statement analysis and security valuation.pdf\n",
      "file: /Users/zyp/Desktop/eBooks/finance book/Financial Accounting International Financial Reporting Stan .pdf\n",
      "file: /Users/zyp/Desktop/eBooks/finance book/risk management.pdf\n",
      "file: /Users/zyp/Desktop/eBooks/finance book/说谎者的扑克牌-迈克尔·刘易斯.epub\n",
      "file: /Users/zyp/Desktop/eBooks/finance book/Mathematical Statistics and Data Analysis, 3rd Edition.pdf\n",
      "file: /Users/zyp/Desktop/eBooks/finance book/雅斯贝尔斯：历史的起源与目标.pdf\n",
      "file: /Users/zyp/Desktop/eBooks/finance book/_More money than God.pdf\n",
      "file: /Users/zyp/Desktop/eBooks/finance book/曼昆　宏观经济经济学第九版　英文原版.pdf\n",
      "file: /Users/zyp/Desktop/eBooks/finance book/计量经济学导论第四版英文.pdf\n",
      "file: /Users/zyp/Desktop/eBooks/finance book/mankiw macroeconomics 8th edition.pdf\n",
      "file: /Users/zyp/Desktop/eBooks/finance book/曼昆经济学原理(英文)第六版.pdf\n",
      "file: /Users/zyp/Desktop/eBooks/finance book/投资革命.pdf\n",
      "file: /Users/zyp/Desktop/eBooks/finance book/Microeconomics 8th Edition, Pindyck and Rubin.pdf\n",
      "file: /Users/zyp/Desktop/eBooks/finance book/电子商务.pdf\n",
      "file: /Users/zyp/Desktop/eBooks/finance book/Options, Futures, and Other Derivatives (8th Edition).pdf\n",
      "file: /Users/zyp/Desktop/eBooks/finance book/曼昆《微观经济学》第五版_英文版.pdf\n",
      "file: /Users/zyp/Desktop/eBooks/finance book/Corporate_Finance_11e_Ross_R.pdf\n",
      "file: /Users/zyp/Desktop/eBooks/finance book/曼昆经济学原理中文版_高清pdf.pdf\n",
      "file: /Users/zyp/Desktop/eBooks/finance book/Financial Markets and Institutions 8th Edition Mishkin.pdf\n",
      "file: /Users/zyp/Desktop/eBooks/finance book/数理统计与数据分析  原书第3版.pdf\n",
      "file: /Users/zyp/Desktop/eBooks/finance book/Introductory Econometrics-A Modern Approach 5th.pdf\n",
      "file: /Users/zyp/Desktop/eBooks/finance book/宏观经济学（中文第七版）{美]N·格里高利·曼昆.pdf\n",
      "file: /Users/zyp/Desktop/eBooks/finance book/Modern Macroeconomics.pdf\n",
      "file: /Users/zyp/Desktop/eBooks/finance book/计量经济学导论第四版中文.pdf\n",
      "file: /Users/zyp/Desktop/eBooks/finance book/【公司理财】英文原版FUNDAMENTALS OF CORPORATE FINANCE 9TH.pdf\n",
      "file: /Users/zyp/Desktop/eBooks/finance book/风险管理与金融机构.pdf\n",
      "file: /Users/zyp/Desktop/eBooks/finance book/说谎者的扑克牌.pdf\n",
      "file: /Users/zyp/Desktop/eBooks/finance book/Bank_Management_and_FinancialServices_8th_edition_8e_.pdf\n",
      "file: /Users/zyp/Desktop/eBooks/finance book/国际金融.pdf\n",
      "file: /Users/zyp/Desktop/eBooks/finance book/Icon\r\n",
      "file: /Users/zyp/Desktop/eBooks/finance book/金融市场与金融机构（第7版-米什金.pdf\n",
      "file: /Users/zyp/Desktop/eBooks/finance book/公司理财第九版罗斯.pdf\n",
      "file: /Users/zyp/Desktop/eBooks/finance book/.DS_Store\n",
      "file: /Users/zyp/Desktop/eBooks/finance book/MWG高级微观经济学（中文版）.pdf\n",
      "file: /Users/zyp/Desktop/eBooks/finance book/Bodie, Kane, Marcus-Investments-McGraw-Hill Education (2014).pdf\n",
      "file: /Users/zyp/Desktop/eBooks/finance book/曼昆微观经济学（第五版）.pdf\n",
      "file: /Users/zyp/Desktop/eBooks/finance book/《微观经济学》平狄克and鲁宾费尔德.pdf\n",
      "file: /Users/zyp/Desktop/eBooks/finance book/微观经济学.pdf\n",
      "file: /Users/zyp/Desktop/eBooks/finance book/曼昆《宏观经济学第七版》（英文版）.pdf\n",
      "file: /Users/zyp/Desktop/eBooks/.DS_Store\n",
      "dir: /Users/zyp/Desktop/eBooks/cs book\n",
      "file: /Users/zyp/Desktop/eBooks/cs book/Python核心编程(第三版) 英文版.pdf\n",
      "file: /Users/zyp/Desktop/eBooks/cs book/Head_First_Python（中文版）.pdf\n",
      "file: /Users/zyp/Desktop/eBooks/cs book/Java HTP (Early Objects), 10th.pdf\n",
      "file: /Users/zyp/Desktop/eBooks/cs book/The C Programming Language (2nd Edition).pdf\n",
      "file: /Users/zyp/Desktop/eBooks/cs book/textbook_c.pdf\n",
      "file: /Users/zyp/Desktop/eBooks/cs book/(Solution Manual) Discrete.pdf\n",
      "file: /Users/zyp/Desktop/eBooks/cs book/Computer Networking A Top-Down Approach 6th E.pdf\n",
      "file: /Users/zyp/Desktop/eBooks/cs book/Computer Explorations in Signals and Systems Using MATLAB.pdf\n",
      "file: /Users/zyp/Desktop/eBooks/cs book/Max Tegmark - Life 3.0 Being human in the age of artificial intelligence.pdf\n",
      "file: /Users/zyp/Desktop/eBooks/cs book/Java语言程序设计基础篇(第8版).pdf\n",
      "file: /Users/zyp/Desktop/eBooks/cs book/computer organization 5th.pdf\n",
      "file: /Users/zyp/Desktop/eBooks/cs book/数理统计与数据分析  原书第3版.pdf\n",
      "file: /Users/zyp/Desktop/eBooks/cs book/离散数学及其应用 第六版.pdf\n",
      "file: /Users/zyp/Desktop/eBooks/cs book/c programming.pdf\n",
      "file: /Users/zyp/Desktop/eBooks/cs book/Java编程思想(第一版).pdf\n",
      "file: /Users/zyp/Desktop/eBooks/cs book/Computer-science-an-overview-12th.pdf\n",
      "file: /Users/zyp/Desktop/eBooks/cs book/Artificial Intelligence A Modern Approach.pdf\n",
      "file: /Users/zyp/Desktop/eBooks/cs book/Rosen_Discrete_Mathematics_and_Its_Applications_7th_Edition.pdf\n",
      "file: /Users/zyp/Desktop/eBooks/cs book/Java.pdf\n",
      "file: /Users/zyp/Desktop/eBooks/cs book/Addison Wesley Data Structures and Algorithm Analysis in Java 3rd Edition.pdf\n",
      "file: /Users/zyp/Desktop/eBooks/cs book/Embedded C Programming.pdf\n",
      "file: /Users/zyp/Desktop/eBooks/cs book/The C programming language（中文版）.pdf\n",
      "file: /Users/zyp/Desktop/eBooks/cs book/.DS_Store\n",
      "file: /Users/zyp/Desktop/eBooks/cs book/[数理统计与数据分析].(Mathematical.Statistics.and.Data.Analysis,.3ed),.Rice,.文字版.pdf\n",
      "file: /Users/zyp/Desktop/eBooks/cs book/C Programming for Arduino.pdf\n",
      "file: /Users/zyp/Desktop/eBooks/cs book/Java(第四版)中文版.pdf\n",
      "\n",
      "\n",
      "\n",
      "\n",
      "dir: /Users/zyp/Desktop/eBooks\n",
      "dir: /Users/zyp/Desktop/eBooks/book\n",
      "file: /Users/zyp/Desktop/eBooks/book/linear algrebra done wrong.pdf\n",
      "file: /Users/zyp/Desktop/eBooks/book/Our Physics Textbook10th.pdf\n",
      "file: /Users/zyp/Desktop/eBooks/book/Linear algebra and its applications.pdf\n",
      "file: /Users/zyp/Desktop/eBooks/book/陈阅增普通生物学第3版.pdf\n",
      "file: /Users/zyp/Desktop/eBooks/book/Chemistry 12th Pearson.pdf\n",
      "file: /Users/zyp/Desktop/eBooks/book/计算机科学概论（第11版）[中文版].pdf\n",
      "file: /Users/zyp/Desktop/eBooks/book/Thomas_Calculus_(13th_Edition).pdf\n",
      "file: /Users/zyp/Desktop/eBooks/book/Java语言程序设计-基础篇(原书第8版-中文) (1).pdf\n",
      "file: /Users/zyp/Desktop/eBooks/book/.DS_Store\n",
      "file: /Users/zyp/Desktop/eBooks/book/托马斯微积分第十版中文版.pdf\n",
      "dir: /Users/zyp/Desktop/eBooks/finance book\n",
      "file: /Users/zyp/Desktop/eBooks/finance book/投资学博迪中文版.pdf\n"
     ]
    }
   ],
   "source": [
    "## write your answer here!\n",
    "import os\n",
    " \n",
    "def dfs_myDir(path, printDir = None, printFile = None):\n",
    "    stack = []\n",
    "    ret = []\n",
    "    stack.append(path)\n",
    "    while len(stack) > 0:\n",
    "        tmp = stack.pop(len(stack) - 1)\n",
    "        if(os.path.isdir(tmp)):\n",
    "            ret.append(tmp)\n",
    "            for item in os.listdir(tmp):\n",
    "                stack.append(os.path.join(tmp, item))\n",
    "            if printDir:\n",
    "                printDir(tmp)\n",
    "        elif(os.path.isfile(tmp)):\n",
    "            ret.append(tmp)\n",
    "            if printFile:\n",
    "                printFile(tmp)\n",
    "    return ret\n",
    " \n",
    "def printDir(path):\n",
    "    print (\"dir: \" + path)\n",
    " \n",
    "def printFile(path):\n",
    "    print (\"file: \" + path)\n",
    " \n",
    "d = dfs_myDir(r'/Users/zyp/Desktop/eBooks', printDir, printFile)\n",
    "##My leptop is Macbook, which do not have C disk. So, I change the dir to: /Users/zyp/Desktop/eBooks\n",
    "\n",
    "print(\"\")\n",
    "print(\"\")\n",
    "print(\"\")\n",
    "print(\"\")\n",
    "\n",
    "def dfs_myDir2(path, printDir = None, printFile = None):\n",
    "    stack = []\n",
    "    ret = []\n",
    "    stack.append(path)\n",
    "    while len(stack) > 0:\n",
    "        tmp = stack.pop(len(stack) - 1)\n",
    "        if(os.path.isdir(tmp)):\n",
    "            ret.append(tmp)\n",
    "            for item in os.listdir(tmp):\n",
    "                stack.append(os.path.join(tmp, item))\n",
    "            if printDir:\n",
    "                printDir(tmp)\n",
    "        elif(os.path.isfile(tmp)):\n",
    "            ret.append(tmp)\n",
    "            if printFile:\n",
    "                printFile(tmp)\n",
    "            if (tmp==\"/Users/zyp/Desktop/eBooks/finance book/投资学博迪中文版.pdf\"):\n",
    "                return ret\n",
    "    return ret\n",
    "\n",
    "d = dfs_myDir2(r'/Users/zyp/Desktop/eBooks', printDir, printFile)"
   ]
  },
  {
   "cell_type": "markdown",
   "metadata": {},
   "source": [
    "4\\.\n",
    "Breadth First traverse：Use breadth traversal to traverse all the DLL files on the C disk and output the filename.\n",
    "\n",
    "Update your code to search for a particular filename."
   ]
  },
  {
   "cell_type": "code",
   "execution_count": 20,
   "metadata": {},
   "outputs": [
    {
     "name": "stdout",
     "output_type": "stream",
     "text": [
      "dir: /Users/zyp/Desktop/eBooks\n",
      "dir: /Users/zyp/Desktop/eBooks/cs book\n",
      "file: /Users/zyp/Desktop/eBooks/.DS_Store\n",
      "dir: /Users/zyp/Desktop/eBooks/finance book\n",
      "dir: /Users/zyp/Desktop/eBooks/book\n",
      "file: /Users/zyp/Desktop/eBooks/cs book/Java(第四版)中文版.pdf\n",
      "file: /Users/zyp/Desktop/eBooks/cs book/C Programming for Arduino.pdf\n",
      "file: /Users/zyp/Desktop/eBooks/cs book/[数理统计与数据分析].(Mathematical.Statistics.and.Data.Analysis,.3ed),.Rice,.文字版.pdf\n",
      "file: /Users/zyp/Desktop/eBooks/cs book/.DS_Store\n",
      "file: /Users/zyp/Desktop/eBooks/cs book/The C programming language（中文版）.pdf\n",
      "file: /Users/zyp/Desktop/eBooks/cs book/Embedded C Programming.pdf\n",
      "file: /Users/zyp/Desktop/eBooks/cs book/Addison Wesley Data Structures and Algorithm Analysis in Java 3rd Edition.pdf\n",
      "file: /Users/zyp/Desktop/eBooks/cs book/Java.pdf\n",
      "file: /Users/zyp/Desktop/eBooks/cs book/Rosen_Discrete_Mathematics_and_Its_Applications_7th_Edition.pdf\n",
      "file: /Users/zyp/Desktop/eBooks/cs book/Artificial Intelligence A Modern Approach.pdf\n",
      "file: /Users/zyp/Desktop/eBooks/cs book/Computer-science-an-overview-12th.pdf\n",
      "file: /Users/zyp/Desktop/eBooks/cs book/Java编程思想(第一版).pdf\n",
      "file: /Users/zyp/Desktop/eBooks/cs book/c programming.pdf\n",
      "file: /Users/zyp/Desktop/eBooks/cs book/离散数学及其应用 第六版.pdf\n",
      "file: /Users/zyp/Desktop/eBooks/cs book/数理统计与数据分析  原书第3版.pdf\n",
      "file: /Users/zyp/Desktop/eBooks/cs book/computer organization 5th.pdf\n",
      "file: /Users/zyp/Desktop/eBooks/cs book/Java语言程序设计基础篇(第8版).pdf\n",
      "file: /Users/zyp/Desktop/eBooks/cs book/Max Tegmark - Life 3.0 Being human in the age of artificial intelligence.pdf\n",
      "file: /Users/zyp/Desktop/eBooks/cs book/Computer Explorations in Signals and Systems Using MATLAB.pdf\n",
      "file: /Users/zyp/Desktop/eBooks/cs book/Computer Networking A Top-Down Approach 6th E.pdf\n",
      "file: /Users/zyp/Desktop/eBooks/cs book/(Solution Manual) Discrete.pdf\n",
      "file: /Users/zyp/Desktop/eBooks/cs book/textbook_c.pdf\n",
      "file: /Users/zyp/Desktop/eBooks/cs book/The C Programming Language (2nd Edition).pdf\n",
      "file: /Users/zyp/Desktop/eBooks/cs book/Java HTP (Early Objects), 10th.pdf\n",
      "file: /Users/zyp/Desktop/eBooks/cs book/Head_First_Python（中文版）.pdf\n",
      "file: /Users/zyp/Desktop/eBooks/cs book/Python核心编程(第三版) 英文版.pdf\n",
      "file: /Users/zyp/Desktop/eBooks/finance book/曼昆《宏观经济学第七版》（英文版）.pdf\n",
      "file: /Users/zyp/Desktop/eBooks/finance book/微观经济学.pdf\n",
      "file: /Users/zyp/Desktop/eBooks/finance book/《微观经济学》平狄克and鲁宾费尔德.pdf\n",
      "file: /Users/zyp/Desktop/eBooks/finance book/曼昆微观经济学（第五版）.pdf\n",
      "file: /Users/zyp/Desktop/eBooks/finance book/Bodie, Kane, Marcus-Investments-McGraw-Hill Education (2014).pdf\n",
      "file: /Users/zyp/Desktop/eBooks/finance book/MWG高级微观经济学（中文版）.pdf\n",
      "file: /Users/zyp/Desktop/eBooks/finance book/.DS_Store\n",
      "file: /Users/zyp/Desktop/eBooks/finance book/公司理财第九版罗斯.pdf\n",
      "file: /Users/zyp/Desktop/eBooks/finance book/金融市场与金融机构（第7版-米什金.pdf\n",
      "file: /Users/zyp/Desktop/eBooks/finance book/Icon\r\n",
      "file: /Users/zyp/Desktop/eBooks/finance book/国际金融.pdf\n",
      "file: /Users/zyp/Desktop/eBooks/finance book/Bank_Management_and_FinancialServices_8th_edition_8e_.pdf\n",
      "file: /Users/zyp/Desktop/eBooks/finance book/说谎者的扑克牌.pdf\n",
      "file: /Users/zyp/Desktop/eBooks/finance book/风险管理与金融机构.pdf\n",
      "file: /Users/zyp/Desktop/eBooks/finance book/【公司理财】英文原版FUNDAMENTALS OF CORPORATE FINANCE 9TH.pdf\n",
      "file: /Users/zyp/Desktop/eBooks/finance book/计量经济学导论第四版中文.pdf\n",
      "file: /Users/zyp/Desktop/eBooks/finance book/Modern Macroeconomics.pdf\n",
      "file: /Users/zyp/Desktop/eBooks/finance book/宏观经济学（中文第七版）{美]N·格里高利·曼昆.pdf\n",
      "file: /Users/zyp/Desktop/eBooks/finance book/Introductory Econometrics-A Modern Approach 5th.pdf\n",
      "file: /Users/zyp/Desktop/eBooks/finance book/数理统计与数据分析  原书第3版.pdf\n",
      "file: /Users/zyp/Desktop/eBooks/finance book/Financial Markets and Institutions 8th Edition Mishkin.pdf\n",
      "file: /Users/zyp/Desktop/eBooks/finance book/曼昆经济学原理中文版_高清pdf.pdf\n",
      "file: /Users/zyp/Desktop/eBooks/finance book/Corporate_Finance_11e_Ross_R.pdf\n",
      "file: /Users/zyp/Desktop/eBooks/finance book/曼昆《微观经济学》第五版_英文版.pdf\n",
      "file: /Users/zyp/Desktop/eBooks/finance book/Options, Futures, and Other Derivatives (8th Edition).pdf\n",
      "file: /Users/zyp/Desktop/eBooks/finance book/电子商务.pdf\n",
      "file: /Users/zyp/Desktop/eBooks/finance book/Microeconomics 8th Edition, Pindyck and Rubin.pdf\n",
      "file: /Users/zyp/Desktop/eBooks/finance book/投资革命.pdf\n",
      "file: /Users/zyp/Desktop/eBooks/finance book/曼昆经济学原理(英文)第六版.pdf\n",
      "file: /Users/zyp/Desktop/eBooks/finance book/mankiw macroeconomics 8th edition.pdf\n",
      "file: /Users/zyp/Desktop/eBooks/finance book/计量经济学导论第四版英文.pdf\n",
      "file: /Users/zyp/Desktop/eBooks/finance book/曼昆　宏观经济经济学第九版　英文原版.pdf\n",
      "file: /Users/zyp/Desktop/eBooks/finance book/_More money than God.pdf\n",
      "file: /Users/zyp/Desktop/eBooks/finance book/雅斯贝尔斯：历史的起源与目标.pdf\n",
      "file: /Users/zyp/Desktop/eBooks/finance book/Mathematical Statistics and Data Analysis, 3rd Edition.pdf\n",
      "file: /Users/zyp/Desktop/eBooks/finance book/说谎者的扑克牌-迈克尔·刘易斯.epub\n",
      "file: /Users/zyp/Desktop/eBooks/finance book/risk management.pdf\n",
      "file: /Users/zyp/Desktop/eBooks/finance book/Financial Accounting International Financial Reporting Stan .pdf\n",
      "file: /Users/zyp/Desktop/eBooks/finance book/financial statement analysis and security valuation.pdf\n",
      "file: /Users/zyp/Desktop/eBooks/finance book/Managing Investment Portfolios A Dynamic Process, 3rd Edition _CFA Institute_.pdf\n",
      "file: /Users/zyp/Desktop/eBooks/finance book/概率统计.第四版.Probability and Statistics-Mo.pdf\n",
      "file: /Users/zyp/Desktop/eBooks/finance book/投资学博迪中文版.pdf\n",
      "file: /Users/zyp/Desktop/eBooks/book/托马斯微积分第十版中文版.pdf\n",
      "file: /Users/zyp/Desktop/eBooks/book/.DS_Store\n",
      "file: /Users/zyp/Desktop/eBooks/book/Java语言程序设计-基础篇(原书第8版-中文) (1).pdf\n",
      "file: /Users/zyp/Desktop/eBooks/book/Thomas_Calculus_(13th_Edition).pdf\n",
      "file: /Users/zyp/Desktop/eBooks/book/计算机科学概论（第11版）[中文版].pdf\n",
      "file: /Users/zyp/Desktop/eBooks/book/Chemistry 12th Pearson.pdf\n",
      "file: /Users/zyp/Desktop/eBooks/book/陈阅增普通生物学第3版.pdf\n",
      "file: /Users/zyp/Desktop/eBooks/book/Linear algebra and its applications.pdf\n",
      "file: /Users/zyp/Desktop/eBooks/book/Our Physics Textbook10th.pdf\n",
      "file: /Users/zyp/Desktop/eBooks/book/linear algrebra done wrong.pdf\n",
      "\n",
      "\n",
      "\n",
      "\n",
      "dir: /Users/zyp/Desktop/eBooks\n",
      "dir: /Users/zyp/Desktop/eBooks/cs book\n",
      "file: /Users/zyp/Desktop/eBooks/.DS_Store\n",
      "dir: /Users/zyp/Desktop/eBooks/finance book\n",
      "dir: /Users/zyp/Desktop/eBooks/book\n",
      "file: /Users/zyp/Desktop/eBooks/cs book/Java(第四版)中文版.pdf\n",
      "file: /Users/zyp/Desktop/eBooks/cs book/C Programming for Arduino.pdf\n",
      "file: /Users/zyp/Desktop/eBooks/cs book/[数理统计与数据分析].(Mathematical.Statistics.and.Data.Analysis,.3ed),.Rice,.文字版.pdf\n",
      "file: /Users/zyp/Desktop/eBooks/cs book/.DS_Store\n",
      "file: /Users/zyp/Desktop/eBooks/cs book/The C programming language（中文版）.pdf\n",
      "file: /Users/zyp/Desktop/eBooks/cs book/Embedded C Programming.pdf\n",
      "file: /Users/zyp/Desktop/eBooks/cs book/Addison Wesley Data Structures and Algorithm Analysis in Java 3rd Edition.pdf\n",
      "file: /Users/zyp/Desktop/eBooks/cs book/Java.pdf\n",
      "file: /Users/zyp/Desktop/eBooks/cs book/Rosen_Discrete_Mathematics_and_Its_Applications_7th_Edition.pdf\n",
      "file: /Users/zyp/Desktop/eBooks/cs book/Artificial Intelligence A Modern Approach.pdf\n",
      "file: /Users/zyp/Desktop/eBooks/cs book/Computer-science-an-overview-12th.pdf\n",
      "file: /Users/zyp/Desktop/eBooks/cs book/Java编程思想(第一版).pdf\n",
      "file: /Users/zyp/Desktop/eBooks/cs book/c programming.pdf\n",
      "file: /Users/zyp/Desktop/eBooks/cs book/离散数学及其应用 第六版.pdf\n",
      "file: /Users/zyp/Desktop/eBooks/cs book/数理统计与数据分析  原书第3版.pdf\n",
      "file: /Users/zyp/Desktop/eBooks/cs book/computer organization 5th.pdf\n",
      "file: /Users/zyp/Desktop/eBooks/cs book/Java语言程序设计基础篇(第8版).pdf\n",
      "file: /Users/zyp/Desktop/eBooks/cs book/Max Tegmark - Life 3.0 Being human in the age of artificial intelligence.pdf\n",
      "file: /Users/zyp/Desktop/eBooks/cs book/Computer Explorations in Signals and Systems Using MATLAB.pdf\n",
      "file: /Users/zyp/Desktop/eBooks/cs book/Computer Networking A Top-Down Approach 6th E.pdf\n",
      "file: /Users/zyp/Desktop/eBooks/cs book/(Solution Manual) Discrete.pdf\n",
      "file: /Users/zyp/Desktop/eBooks/cs book/textbook_c.pdf\n",
      "file: /Users/zyp/Desktop/eBooks/cs book/The C Programming Language (2nd Edition).pdf\n",
      "file: /Users/zyp/Desktop/eBooks/cs book/Java HTP (Early Objects), 10th.pdf\n",
      "file: /Users/zyp/Desktop/eBooks/cs book/Head_First_Python（中文版）.pdf\n",
      "file: /Users/zyp/Desktop/eBooks/cs book/Python核心编程(第三版) 英文版.pdf\n",
      "file: /Users/zyp/Desktop/eBooks/finance book/曼昆《宏观经济学第七版》（英文版）.pdf\n",
      "file: /Users/zyp/Desktop/eBooks/finance book/微观经济学.pdf\n",
      "file: /Users/zyp/Desktop/eBooks/finance book/《微观经济学》平狄克and鲁宾费尔德.pdf\n",
      "file: /Users/zyp/Desktop/eBooks/finance book/曼昆微观经济学（第五版）.pdf\n",
      "file: /Users/zyp/Desktop/eBooks/finance book/Bodie, Kane, Marcus-Investments-McGraw-Hill Education (2014).pdf\n",
      "file: /Users/zyp/Desktop/eBooks/finance book/MWG高级微观经济学（中文版）.pdf\n",
      "file: /Users/zyp/Desktop/eBooks/finance book/.DS_Store\n",
      "file: /Users/zyp/Desktop/eBooks/finance book/公司理财第九版罗斯.pdf\n",
      "file: /Users/zyp/Desktop/eBooks/finance book/金融市场与金融机构（第7版-米什金.pdf\n",
      "file: /Users/zyp/Desktop/eBooks/finance book/Icon\r\n",
      "file: /Users/zyp/Desktop/eBooks/finance book/国际金融.pdf\n",
      "file: /Users/zyp/Desktop/eBooks/finance book/Bank_Management_and_FinancialServices_8th_edition_8e_.pdf\n",
      "file: /Users/zyp/Desktop/eBooks/finance book/说谎者的扑克牌.pdf\n",
      "file: /Users/zyp/Desktop/eBooks/finance book/风险管理与金融机构.pdf\n",
      "file: /Users/zyp/Desktop/eBooks/finance book/【公司理财】英文原版FUNDAMENTALS OF CORPORATE FINANCE 9TH.pdf\n",
      "file: /Users/zyp/Desktop/eBooks/finance book/计量经济学导论第四版中文.pdf\n",
      "file: /Users/zyp/Desktop/eBooks/finance book/Modern Macroeconomics.pdf\n",
      "file: /Users/zyp/Desktop/eBooks/finance book/宏观经济学（中文第七版）{美]N·格里高利·曼昆.pdf\n",
      "file: /Users/zyp/Desktop/eBooks/finance book/Introductory Econometrics-A Modern Approach 5th.pdf\n",
      "file: /Users/zyp/Desktop/eBooks/finance book/数理统计与数据分析  原书第3版.pdf\n",
      "file: /Users/zyp/Desktop/eBooks/finance book/Financial Markets and Institutions 8th Edition Mishkin.pdf\n",
      "file: /Users/zyp/Desktop/eBooks/finance book/曼昆经济学原理中文版_高清pdf.pdf\n",
      "file: /Users/zyp/Desktop/eBooks/finance book/Corporate_Finance_11e_Ross_R.pdf\n",
      "file: /Users/zyp/Desktop/eBooks/finance book/曼昆《微观经济学》第五版_英文版.pdf\n",
      "file: /Users/zyp/Desktop/eBooks/finance book/Options, Futures, and Other Derivatives (8th Edition).pdf\n",
      "file: /Users/zyp/Desktop/eBooks/finance book/电子商务.pdf\n",
      "file: /Users/zyp/Desktop/eBooks/finance book/Microeconomics 8th Edition, Pindyck and Rubin.pdf\n",
      "file: /Users/zyp/Desktop/eBooks/finance book/投资革命.pdf\n",
      "file: /Users/zyp/Desktop/eBooks/finance book/曼昆经济学原理(英文)第六版.pdf\n",
      "file: /Users/zyp/Desktop/eBooks/finance book/mankiw macroeconomics 8th edition.pdf\n",
      "file: /Users/zyp/Desktop/eBooks/finance book/计量经济学导论第四版英文.pdf\n",
      "file: /Users/zyp/Desktop/eBooks/finance book/曼昆　宏观经济经济学第九版　英文原版.pdf\n",
      "file: /Users/zyp/Desktop/eBooks/finance book/_More money than God.pdf\n",
      "file: /Users/zyp/Desktop/eBooks/finance book/雅斯贝尔斯：历史的起源与目标.pdf\n",
      "file: /Users/zyp/Desktop/eBooks/finance book/Mathematical Statistics and Data Analysis, 3rd Edition.pdf\n",
      "file: /Users/zyp/Desktop/eBooks/finance book/说谎者的扑克牌-迈克尔·刘易斯.epub\n",
      "file: /Users/zyp/Desktop/eBooks/finance book/risk management.pdf\n",
      "file: /Users/zyp/Desktop/eBooks/finance book/Financial Accounting International Financial Reporting Stan .pdf\n",
      "file: /Users/zyp/Desktop/eBooks/finance book/financial statement analysis and security valuation.pdf\n",
      "file: /Users/zyp/Desktop/eBooks/finance book/Managing Investment Portfolios A Dynamic Process, 3rd Edition _CFA Institute_.pdf\n",
      "file: /Users/zyp/Desktop/eBooks/finance book/概率统计.第四版.Probability and Statistics-Mo.pdf\n",
      "file: /Users/zyp/Desktop/eBooks/finance book/投资学博迪中文版.pdf\n"
     ]
    }
   ],
   "source": [
    "## write your answer here!\n",
    "import os\n",
    " \n",
    "def bfs_myDir(path, printDir = None, printFile = None):\n",
    "    queue = []\n",
    "    ret = []\n",
    "    queue.append(path)\n",
    "    while len(queue) > 0:\n",
    "        tmp = queue.pop(0)\n",
    "        if(os.path.isdir(tmp)):\n",
    "            ret.append(tmp)\n",
    "            for item in os.listdir(tmp):\n",
    "                queue.append(os.path.join(tmp, item))\n",
    "            if printDir:\n",
    "                printDir(tmp)\n",
    "        elif(os.path.isfile(tmp)):\n",
    "            ret.append(tmp)\n",
    "            if printFile:\n",
    "                printFile(tmp)\n",
    "    return ret\n",
    " \n",
    "def printDir(path):\n",
    "    print (\"dir: \" + path)\n",
    " \n",
    "def printFile(path):\n",
    "    print (\"file: \" + path)\n",
    " \n",
    "d = bfs_myDir(r'/Users/zyp/Desktop/eBooks', printDir, printFile)\n",
    "##My leptop is Macbook, which do not have C disk. So, I change the dir to: /Users/zyp/Desktop/eBooks\n",
    "\n",
    "print(\"\")\n",
    "print(\"\")\n",
    "print(\"\")\n",
    "print(\"\")\n",
    "\n",
    "def bfs_myDir2(path, printDir = None, printFile = None):\n",
    "    queue = []\n",
    "    ret = []\n",
    "    queue.append(path)\n",
    "    while len(queue) > 0:\n",
    "        tmp = queue.pop(0)\n",
    "        if(os.path.isdir(tmp)):\n",
    "            ret.append(tmp)\n",
    "            for item in os.listdir(tmp):\n",
    "                queue.append(os.path.join(tmp, item))\n",
    "            if printDir:\n",
    "                printDir(tmp)\n",
    "        elif(os.path.isfile(tmp)):\n",
    "            ret.append(tmp)\n",
    "            if printFile:\n",
    "                printFile(tmp)\n",
    "            if (tmp==\"/Users/zyp/Desktop/eBooks/finance book/投资学博迪中文版.pdf\"):\n",
    "                return ret\n",
    "    return ret\n",
    "d = bfs_myDir2(r'/Users/zyp/Desktop/eBooks', printDir, printFile)"
   ]
  },
  {
   "cell_type": "markdown",
   "metadata": {},
   "source": [
    "5\\. Uniform cost search"
   ]
  },
  {
   "cell_type": "markdown",
   "metadata": {},
   "source": [
    "Consider a state space where the start state is 2 and each state k has three successors: numbers 2k, 2k+1, 2k+2. The cost from state k to each respective child is k, ground(k/2), k+2.\n",
    "\n",
    "can you implement a uniform-cost-search algorithm with python. The goal state is number 85."
   ]
  },
  {
   "cell_type": "markdown",
   "metadata": {},
   "source": [
    "6\\.a* question"
   ]
  },
  {
   "cell_type": "markdown",
   "metadata": {},
   "source": [
    "A cute cat stays in the A position, he is hungry. But the food is placed in the B position. Can you help him to find the food? \n",
    "Hint:  The problem isn't easy. It's essential for you to understand the A* algorithm before you solve this problem. Then, you can use some thought of Node in java, when you are in code.\n",
    "\n",
    "<img src=\"img/p4.png\" width=\"500\" height=\"400\" >\n"
   ]
  },
  {
   "cell_type": "code",
   "execution_count": null,
   "metadata": {},
   "outputs": [],
   "source": [
    "## write your answer here!"
   ]
  }
 ],
 "metadata": {
  "kernelspec": {
   "display_name": "Python 3",
   "language": "python",
   "name": "python3"
  },
  "language_info": {
   "codemirror_mode": {
    "name": "ipython",
    "version": 3
   },
   "file_extension": ".py",
   "mimetype": "text/x-python",
   "name": "python",
   "nbconvert_exporter": "python",
   "pygments_lexer": "ipython3",
   "version": "3.6.5"
  }
 },
 "nbformat": 4,
 "nbformat_minor": 2
}
